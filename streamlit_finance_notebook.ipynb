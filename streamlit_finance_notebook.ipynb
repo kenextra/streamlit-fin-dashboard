{
 "metadata": {
  "language_info": {
   "codemirror_mode": {
    "name": "ipython",
    "version": 3
   },
   "file_extension": ".py",
   "mimetype": "text/x-python",
   "name": "python",
   "nbconvert_exporter": "python",
   "pygments_lexer": "ipython3",
   "version": "3.8.0-final"
  },
  "orig_nbformat": 2,
  "kernelspec": {
   "name": "python3",
   "display_name": "Python 3.8.0 64-bit ('venv')",
   "metadata": {
    "interpreter": {
     "hash": "8e47eb4fc749a5d002c2a211973b60957ab76e353b40f818b89af7eaff92e308"
    }
   }
  }
 },
 "nbformat": 4,
 "nbformat_minor": 2,
 "cells": [
  {
   "source": [
    "# [Creating a Finance Web App in 3 Minutes!] (https://towardsdatascience.com/creating-a-finance-web-app-in-3-minutes-8273d56a39f8)"
   ],
   "cell_type": "markdown",
   "metadata": {}
  },
  {
   "cell_type": "code",
   "execution_count": 1,
   "metadata": {},
   "outputs": [],
   "source": [
    "import yfinance as yf\n",
    "import streamlit as st\n",
    "import datetime\n",
    "import talib\n",
    "import ta\n",
    "import pandas as pd\n",
    "import requests\n",
    "yf.pdr_override()"
   ]
  },
  {
   "cell_type": "code",
   "execution_count": 10,
   "metadata": {},
   "outputs": [],
   "source": [
    "today = datetime.date.today()\n",
    "ticker = \"AAPL\"\n",
    "start_date = \"2020-01-01\"\n",
    "end_date = f'{today}'"
   ]
  },
  {
   "cell_type": "code",
   "execution_count": 7,
   "metadata": {},
   "outputs": [],
   "source": [
    "def get_symbol(symbol):\n",
    "    url = f\"http://d.yimg.com/autoc.finance.yahoo.com/autoc?query={symbol}&region=1&lang=en\"\n",
    "    result = requests.get(url).json()\n",
    "    for x in result['ResultSet']['Result']:\n",
    "        if x['symbol'] == symbol:\n",
    "            return x['name']"
   ]
  },
  {
   "cell_type": "code",
   "execution_count": 11,
   "metadata": {},
   "outputs": [],
   "source": [
    "symbol = ticker\n",
    "company_name = get_symbol(symbol.upper())\n",
    "\n",
    "start = pd.to_datetime(start_date)\n",
    "end = pd.to_datetime(end_date)"
   ]
  },
  {
   "cell_type": "code",
   "execution_count": 13,
   "metadata": {},
   "outputs": [
    {
     "output_type": "stream",
     "name": "stdout",
     "text": [
      "[*********************100%***********************]  1 of 1 completed\n"
     ]
    }
   ],
   "source": [
    "data = yf.download(symbol, start, end)"
   ]
  },
  {
   "cell_type": "code",
   "execution_count": 14,
   "metadata": {},
   "outputs": [],
   "source": [
    "data['SMA'] = talib.SMA(data['Adj Close'], timeperiod = 20)"
   ]
  },
  {
   "cell_type": "code",
   "execution_count": 17,
   "metadata": {},
   "outputs": [],
   "source": [
    "# Exponential Moving Average\n",
    "data['EMA'] = talib.EMA(data['Adj Close'], timeperiod = 20)"
   ]
  },
  {
   "cell_type": "code",
   "execution_count": 18,
   "metadata": {},
   "outputs": [],
   "source": [
    "data['upper_band'], data['middle_band'], data['lower_band'] = talib.BBANDS(data['Adj Close'], timeperiod =20)"
   ]
  },
  {
   "cell_type": "code",
   "execution_count": 19,
   "metadata": {},
   "outputs": [],
   "source": [
    "data['macd'], data['macdsignal'], data['macdhist'] = talib.MACD(data['Adj Close'], fastperiod=12, slowperiod=26, signalperiod=9)"
   ]
  },
  {
   "cell_type": "code",
   "execution_count": 22,
   "metadata": {},
   "outputs": [],
   "source": [
    "cci = ta.trend.cci(data['High'], data['Low'], data['Close'], window=31, constant=0.015)"
   ]
  },
  {
   "cell_type": "code",
   "execution_count": 25,
   "metadata": {},
   "outputs": [],
   "source": [
    "data['RSI'] = talib.RSI(data['Adj Close'], timeperiod=14)"
   ]
  },
  {
   "cell_type": "code",
   "execution_count": 26,
   "metadata": {},
   "outputs": [],
   "source": [
    "data['OBV'] = talib.OBV(data['Adj Close'], data['Volume'])/10**6"
   ]
  },
  {
   "cell_type": "code",
   "execution_count": null,
   "metadata": {},
   "outputs": [],
   "source": []
  }
 ]
}